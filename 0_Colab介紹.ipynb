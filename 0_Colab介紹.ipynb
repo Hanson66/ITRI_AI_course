{
  "nbformat": 4,
  "nbformat_minor": 0,
  "metadata": {
    "colab": {
      "name": "0.Colab介紹.ipynb",
      "provenance": [],
      "collapsed_sections": [],
      "include_colab_link": true
    },
    "kernelspec": {
      "name": "python3",
      "display_name": "Python 3"
    }
  },
  "cells": [
    {
      "cell_type": "markdown",
      "metadata": {
        "id": "view-in-github",
        "colab_type": "text"
      },
      "source": [
        "<a href=\"https://colab.research.google.com/github/Hanson66/ITRI_AI_course/blob/main/0_Colab%E4%BB%8B%E7%B4%B9.ipynb\" target=\"_parent\"><img src=\"https://colab.research.google.com/assets/colab-badge.svg\" alt=\"Open In Colab\"/></a>"
      ]
    },
    {
      "cell_type": "markdown",
      "metadata": {
        "id": "apyshIoIFCZr"
      },
      "source": [
        "\n",
        "\n",
        "---\n",
        "\n",
        "\n",
        "## 我們用 colab 會遇到的 python 檔案\n",
        "\n",
        "### 副檔名 .ipynb\n",
        "- ipython notebook\n",
        "- 可以在 colab 上執行\n",
        "\n",
        "### 副檔名 .py\n",
        "- 可以當作函式檔被呼叫\n",
        "\n",
        "---\n",
        "\n",
        "\n"
      ]
    },
    {
      "cell_type": "markdown",
      "metadata": {
        "id": "virnaH83nC1r"
      },
      "source": [
        "\n",
        "\n",
        "*   make a copy  (進來後，馬上製作自己的副本，再回頭想先前的動作，或後續的學習）\n",
        "*   create a ipynb file at google drive, at colab\n",
        "*   editing and markdown, and create new cell\n",
        "*   hello world and execute it\n",
        "*   enable GPU\n",
        "*   save, find location, save a copy\n",
        "*   file management area\n",
        "*   !linux\n",
        "*   connect to gdrive"
      ]
    },
    {
      "cell_type": "markdown",
      "metadata": {
        "id": "09ArXcLWvu1C"
      },
      "source": [
        "# 1. 存取收集到的檔案\n",
        "\n",
        "--- \n",
        "## 1.1. 從按下左上角的 檔案 開始 \n",
        "<br>\n",
        "<img src=https://i.imgur.com/MDS2Qrt.png width=\"300\">\n",
        "\n",
        "---\n",
        "\n",
        "## 1.2. 在雲端硬碟中儲存副本\n",
        "<br>\n",
        "<img src=https://i.imgur.com/Vde7l46.png width=\"300\" border=\"1\">\n",
        "\n",
        "\n",
        "---\n",
        "\n",
        "## 1.3. 會在 google drive (帳號如右上角所示）建立一個 Colab Notebooks 子目錄\n",
        "<br>\n",
        "<img src=https://i.imgur.com/QOtM7XH.png width=\"800\" border=\"1\">\n",
        "<br>\n",
        "\n",
        "\n",
        "---\n",
        "\n",
        "\n",
        "<br>\n",
        "<img src=https://i.imgur.com/fYc7enU.png width=\"500\" border=\"1\">\n",
        "\n",
        "\n",
        "* 會在 Colab Notebooks 目錄下存放一個 \"0.Colab介紹.ipynb 的副本\"\n",
        "<br> \n",
        "<img src=https://i.imgur.com/D8cx5TR.png width='500' border=\"1\">\n",
        "\n",
        "* \"0.Colab介紹.ipynb 的副本\" 這才是你的檔案，才可以執行。"
      ]
    },
    {
      "cell_type": "markdown",
      "metadata": {
        "id": "Cu5iz4bTdMUy"
      },
      "source": [
        "---\n",
        "# 1. 記錄先前的工作\n",
        "## 看到這個程式畫面，表示你完成了以下的工作，我們紀錄一下。\n",
        "    - 啟動 Chrome\n",
        "    - 啟動一個先的 ipynb 的方法\n",
        "      - 方法一：連結 [colab](https://colab.research.google.com/)，開啟新檔案\n",
        "      - 方法二：\n",
        "        - 進入 drive.google.com （我們假設你擁有 google帳號，同時也以該帳號登入運作當前動作）\n",
        "        - 在左上方點選新增，再展開的清單中點選更多，在再次展開的清單中點選 google colaboratory；如果沒有看到這個選項，表示你還沒有安裝過 google colaboratory。請在同一個畫面下，點選連結更多應用程式，在出現的畫面中輸入 colab, 然後依循指示進行安裝。\n",
        "    - 開啟舊檔的方式：\n",
        "      - 在 google drive 中點選舊檔，通常都可以順利打開檔案。\n",
        "      - 有時在 google drive 中點選了舊檔，chrome 沒有直接啟動 colab，但是會在畫面上方中央處出現 “以colab開啟” 的字樣，點選這個字串，可以開啟舊檔。 \n",
        "\n"
      ]
    },
    {
      "cell_type": "markdown",
      "metadata": {
        "id": "kWXMjlq4gSkr"
      },
      "source": [
        "---\n",
        "# 點選新增筆記本\n",
        "<br>\n",
        "<img src=https://i.imgur.com/Vde7l46.png width=\"300\" border=\"1\">\n",
        "\n",
        "# 2. 進入 colab 可以看見畫面中央有一個長條空白格子，這是程式碼編輯區。\n",
        "\n",
        "<img src=https://i.imgur.com/p44k9Nh.png width='500' border='1'>\n",
        "請在這個程式碼區輸入：\n",
        "\n",
        "\n",
        "```\n",
        "import torch\n",
        "import matplotlib.pyplot as plt\n",
        "print('hello, world!')\n",
        "```\n",
        "\n",
        "然後按下程式格左方的 <img src=https://i.imgur.com/IAg0bqp.png width='30' border='1'> 或者 ctrl+enter，或者 shift+enter"
      ]
    },
    {
      "cell_type": "markdown",
      "metadata": {
        "id": "dW8Fqii-hdYx"
      },
      "source": [
        "---\n",
        "# 3. 請在畫面左上方按下 “程式碼”\n",
        "<img src = https://i.imgur.com/M8oRrwF.png width = '400' border='1'>\n",
        "<br>\n",
        "會出現新的空白程式編輯格\n",
        "<br>\n",
        "<img src =https://i.imgur.com/bi5jDUC.png width = '400' border ='1'>"
      ]
    },
    {
      "cell_type": "markdown",
      "metadata": {
        "id": "3EaXMG28hpvB"
      },
      "source": [
        "---\n",
        "#【練習】 \n",
        "# 4. 在出現的程式格內輸入以下的程式碼, 然後執行\n",
        "\n",
        "\n",
        "```\n",
        "x = torch.linspace(0, 10 ,201)\n",
        "y = torch.sin(x)\n",
        "\n",
        "plt.plot(x,y)\n",
        "plt.show()\n",
        "```\n",
        "\n",
        "會得到\n",
        "\n",
        "<br>\n",
        "<img src =https://i.imgur.com/EgWMwwd.png width='300' border='1'>\n"
      ]
    },
    {
      "cell_type": "markdown",
      "metadata": {
        "id": "vTW4cNC1j_ZW"
      },
      "source": [
        "---\n",
        "#【練習】 \n",
        "5. 建立一個文字格，嘗試解釋底下的程式\n",
        " \n",
        "\n",
        "```\n",
        "import numpy as np\n",
        "import matplotlib.pyplot as plt\n",
        "import torch\n",
        "\n",
        "x = np.linspace(0,2*np.pi,101)\n",
        "y = np.sin(x)\n",
        "plt.plot(x, y)\n",
        "plt.show()\n",
        "```\n",
        "\n"
      ]
    },
    {
      "cell_type": "markdown",
      "metadata": {
        "id": "bb6a-TuskaZt"
      },
      "source": [
        "---\n",
        "# 6. 在上方啟動一格程式碼、文字\n",
        "<img src=https://i.imgur.com/AmsLrEm.png width='700' border='1'>"
      ]
    },
    {
      "cell_type": "markdown",
      "metadata": {
        "id": "FXPn4ku-kzjI"
      },
      "source": [
        "---\n",
        "# 7. 觀察工作列的執行階段\n",
        "<img src=https://i.imgur.com/rB13b54.png width='400'>\n",
        "<br>\n",
        "\n",
        "# 下拉後，有一些常用的選項\n",
        "<img src=https://i.imgur.com/KahkLO5.png width='200'>\n",
        "<br>\n",
        "- 全部執行\n",
        "- 重新啟動並執行所有執行格\n",
        "- 恢復原廠設定的執行階段\n",
        "- 管理工作階段\n",
        "- ### **變更執行階段類型**"
      ]
    },
    {
      "cell_type": "markdown",
      "metadata": {
        "id": "PjUuFfSnlhkV"
      },
      "source": [
        "---\n",
        "# 8. 再看一次檔案區: 練習檔案區\n",
        "<img src=https://i.imgur.com/PsxZz3W.png width=200 border='1'>\n",
        "<br>\n",
        "常用的選項\n",
        "\n",
        " - 儲存\n",
        " - ### **在雲端硬碟中儲存副本**\n",
        "  - 了解所處帳號\n",
        " - 在雲端硬碟中尋找\n",
        " - 其他"
      ]
    },
    {
      "cell_type": "markdown",
      "metadata": {
        "id": "dX-FThdemQfZ"
      },
      "source": [
        "---\n",
        "# 9. 開一個程式區段，編輯並執行下方程式\n",
        "## 也可以利用左邊區域\n",
        "<img src = https://i.imgur.com/e6YKLIm.png width= '300'>\n",
        "\n",
        "\n",
        "\n",
        "\n",
        "```\n",
        "from google.colab import drive\n",
        "drive.mount('/content/drive/')\n",
        "\n",
        "!ls drive/'My Drive'/\n",
        "```\n",
        "\n"
      ]
    },
    {
      "cell_type": "markdown",
      "metadata": {
        "id": "8mav9KTEnGIW"
      },
      "source": [
        "---\n",
        "# 10. 觀察左方、觀察右方 RAM 與硬碟\n",
        "\n",
        "<img src = https://i.imgur.com/e6YKLIm.png width= '300'>\n",
        "<img src=https://i.imgur.com/MtJjLTO.png border='1'>"
      ]
    },
    {
      "cell_type": "markdown",
      "metadata": {
        "id": "rKwC-S6xQDko"
      },
      "source": [
        "#11. 開啟一個 Colab ipynb 的方法\n",
        "### 11.1 開啟一個 空白 Colab ipynb 的方法\n",
        ">*  在 gdrive 下，建立一個新的 colab ipynb 檔 (新增檔案)\n",
        "\n",
        "1.   在 Google Drive 點選左上角的 **新增**\n",
        "![Google Drive](https://github.com/PatrickRuan/Colab/blob/master/pictures/googledrive.png?raw=true)\n",
        "\n",
        "2.   在新展開的選項，點選更多，才能夠看到 **Google Colaboratory** 的選項\n",
        "![新增](https://github.com/PatrickRuan/Colab/blob/master/pictures/%E6%96%B0%E5%A2%9Ecolab%E6%AA%94%E6%A1%88.png?raw=true)\n",
        "1.   這時候就會進入我們的 Colab 了\n",
        "\n",
        "\n",
        "\n",
        "\n"
      ]
    },
    {
      "cell_type": "markdown",
      "metadata": {
        "id": "3NPRu6FfQDkp"
      },
      "source": [
        "### 11.2 在chrome安裝 colab 應用程式  \n",
        "(先前沒開過 Colab 程式)\n",
        "1. google drive 左上角 新增 \n",
        "<img src=https://i.imgur.com/7pc8sUP.png, width ='300'>\n",
        "\n",
        "1. 出現的選單中，點選更多\n",
        "1. 再次出現的下一層選單中 “＋連結更多應用程式”\n",
        "<br>\n",
        "<img src=https://i.imgur.com/oc2SgsM.png, width ='800'>\n",
        "1. 在出現的畫面中，搜尋筐內填進 colabor\n",
        "<br>\n",
        "<img src=https://i.imgur.com/41oQ3mq.png, width ='600'>\n",
        "\n",
        "\n",
        "---\n",
        "\n"
      ]
    },
    {
      "cell_type": "markdown",
      "metadata": {
        "id": "iQ46L0W3Rl4T"
      },
      "source": [
        "# 12 額外提到 .py\n",
        "[0.elements.ipynb](https://colab.research.google.com/drive/1Rlyk4MaZoVwlqn1PY8bNYOErXEsDRU2M?usp=sharing)\n",
        "\n",
        "[call_elements.ipynb](https://colab.research.google.com/drive/1t2I8SEoN4T8I_PfSPsoDqMQf4Ex3olXU?usp=sharing)"
      ]
    },
    {
      "cell_type": "markdown",
      "metadata": {
        "id": "WahvtvarS0gw"
      },
      "source": [
        "用下載的方式將 [0.elements.ipynb](https://colab.research.google.com/drive/1Rlyk4MaZoVwlqn1PY8bNYOErXEsDRU2M?usp=sharing) 下載成 .py\n",
        "\n",
        "<img src=https://i.imgur.com/6Diuv4Q.png width='400'>\n",
        "\n",
        "打開 [call_elements.ipynb](https://colab.research.google.com/drive/1t2I8SEoN4T8I_PfSPsoDqMQf4Ex3olXU?usp=sharing)\n",
        "同時將 0.elements.py 利用下面的工作區上傳到 colab，並且改名為 elements.py\n",
        "<img src=https://i.imgur.com/e6hzdno.png width='400'>\n",
        "\n",
        "執行[call_elements.ipynb](https://colab.research.google.com/drive/1t2I8SEoN4T8I_PfSPsoDqMQf4Ex3olXU?usp=sharing)\n"
      ]
    },
    {
      "cell_type": "code",
      "metadata": {
        "id": "jA367HhtSJh2"
      },
      "source": [
        ""
      ],
      "execution_count": null,
      "outputs": []
    },
    {
      "cell_type": "markdown",
      "metadata": {
        "id": "Mg2s6On8RmAR"
      },
      "source": [
        ""
      ]
    },
    {
      "cell_type": "markdown",
      "metadata": {
        "id": "NvaA94NCRmLR"
      },
      "source": [
        ""
      ]
    },
    {
      "cell_type": "code",
      "metadata": {
        "id": "CVCtf7TyRkGQ"
      },
      "source": [
        ""
      ],
      "execution_count": null,
      "outputs": []
    },
    {
      "cell_type": "markdown",
      "metadata": {
        "id": "KLeNg5MKNHLE"
      },
      "source": [
        "# 【練習 1】\n",
        "# 1. 請在上述的內容中，歸納出貼圖的命令句寫法。 (3 min)\n",
        "# 2. 請在上述的內容中，對於忘了外框的圖案加上外框。(5 min)\n",
        "# 3. 美化上述的內容，成為更好的簡報呈現。(20 min)"
      ]
    },
    {
      "cell_type": "markdown",
      "metadata": {
        "id": "QBPRQ5UMPFn6"
      },
      "source": [
        "小插曲\n",
        "文字格可以寫程式\n",
        ">> $ \\Large{ \\frac{\\partial{L}}{\\partial{w}}} = \\normalsize{\\sum\\limits_{n=1}^{10}  -2 (\\: \\hat{y}^{n} - (w*x^n + b)) * x^n)}$"
      ]
    },
    {
      "cell_type": "markdown",
      "metadata": {
        "id": "VgvSgIV9PDTu"
      },
      "source": [
        "# 【練習 2】\n",
        "# 1. 文字格練習 寫出 y 等於 6 x 平方 加 2 x  加 4\n",
        "# 2. 程式格練習：\n",
        "- 第一行 x 等於 4\n",
        "- 第二行 y 等於 6 x 平方 加 2 x  加 4\n",
        "- 印出 y"
      ]
    },
    {
      "cell_type": "markdown",
      "metadata": {
        "id": "gKXn6zbMzXeY"
      },
      "source": [
        "# 11. linux  (進階）\n",
        "* !ls\n",
        "* !mkdir subfolder\n",
        "* !nuzip file.zip\n",
        "* !mv file model\n",
        "* !rm -r model"
      ]
    },
    {
      "cell_type": "markdown",
      "metadata": {
        "id": "N7wd2tyfmJpt"
      },
      "source": [
        "# <其他參考>"
      ]
    },
    {
      "cell_type": "markdown",
      "metadata": {
        "id": "9d8z2wqt6oFj"
      },
      "source": [
        "\n",
        "\n",
        "1. 如何使用他人分享的 gdrive 檔\n",
        ">* 留意是不是自己想工作的帳號\n",
        "1. 開啟一個 Colab ipynb 的方法\n",
        ">*  檔案 URL 連接  \n",
        ">*   在 gdrive 下，直接點選既有的 ipynb 檔 (開啟舊檔)\n",
        ">*  在 gdrive 下，建立一個新的 colab ipynb 檔  (新增檔案) 與 在chrome安裝 colab 應用程式(**)\n",
        "\n",
        "1. 觀察帳號資源訊息與整理帳號資源\n",
        ">* 開啟 GPU　**留意是不是自己想工作的帳號**\n",
        ">* manage sessions\n",
        ">* view logs\n",
        ">* run all、restart and factory restart\n",
        "1. 基本操作：Colab　與 Linux 指令 (!, ls, cd, cp, mkdir, rm, mv)\n",
        "1. 連接 gdrive\n",
        "1. 上下傳檔 \n",
        "> * gdrive <==>　colab machine, \n",
        "> * local machine <==> colab **machine**\n",
        "1. 文件編輯區\n",
        "8. markdown\n",
        "9. ML\n",
        "10. DL\n",
        "11. how to import *.py \n",
        "\n"
      ]
    },
    {
      "cell_type": "markdown",
      "metadata": {
        "id": "-U36YoKr_knO"
      },
      "source": [
        "\n",
        "\n",
        "```\n",
        "# This is formatted as code\n",
        "```\n",
        "\n",
        "# 1. 如何使用他人分享的 gdrive 檔\n",
        "### 開別人的程式, 存一份在自己的 google drive, save a copy ==> gdrive\\'Colab Notebooks' \n",
        "## **留意是否是自己想要的工作帳號（右上角）**\n",
        "\n",
        "\n",
        "1.   Tab File ==> Save A Copy in Drive\n",
        "2.   Colab will initial a new Page Colab with name \"Copy of old file name.ipynb'\n",
        "3.   ## **make sure, which account you are!**\n",
        "4.   it saves that new file under your gdrive, and it creates a subfolder \"Colab Notebook\" under root of your dgrive. "
      ]
    },
    {
      "cell_type": "markdown",
      "metadata": {
        "id": "Mh-rD4wFL86H"
      },
      "source": [
        "#2. 開啟一個 Colab ipynb 的方法\n",
        "### 2.1 開啟一個 空白 Colab ipynb 的方法\n",
        ">*  在 gdrive 下，建立一個新的 colab ipynb 檔 (新增檔案)\n",
        "\n",
        "1.   在 Google Drive 點選左上角的 **新增**\n",
        "![Google Drive](https://github.com/PatrickRuan/Colab/blob/master/pictures/googledrive.png?raw=true)\n",
        "\n",
        "2.   在新展開的選項，點選更多，才能夠看到 **Google Colaboratory** 的選項\n",
        "![新增](https://github.com/PatrickRuan/Colab/blob/master/pictures/%E6%96%B0%E5%A2%9Ecolab%E6%AA%94%E6%A1%88.png?raw=true)\n",
        "1.   這時候就會進入我們的 Colab 了\n",
        "\n",
        "\n",
        "\n",
        "\n"
      ]
    },
    {
      "cell_type": "markdown",
      "metadata": {
        "id": "i2SJjNFu_OB3"
      },
      "source": [
        "### 2.2 在chrome安裝 colab 應用程式  \n",
        "(先前沒開過 Colab 程式)\n",
        "1. google drive 左上角 新增 \n",
        "<img src=https://i.imgur.com/7pc8sUP.png, width ='300'>\n",
        "\n",
        "1. 出現的選單中，點選更多\n",
        "1. 再次出現的下一層選單中 “＋連結更多應用程式”\n",
        "<br>\n",
        "<img src=https://i.imgur.com/oc2SgsM.png, width ='800'>\n",
        "1. 在出現的畫面中，搜尋筐內填進 colabor\n",
        "<br>\n",
        "<img src=https://i.imgur.com/41oQ3mq.png, width ='600'>\n",
        "\n",
        "\n",
        "---\n",
        "\n"
      ]
    },
    {
      "cell_type": "markdown",
      "metadata": {
        "id": "Njdm1nsgP408"
      },
      "source": [
        "# 參考補充"
      ]
    },
    {
      "cell_type": "markdown",
      "metadata": {
        "id": "hj1ESX64XLmU"
      },
      "source": [
        "## 3. 觀察帳號資源訊息與整理帳號資源\n",
        "\n",
        "1.   Runtime: 開啟 GPU, 我們進入 Colab 有兩個目的，\n",
        "\n",
        "  *   一個是環境單純，尤其教學方便\n",
        "  *   **[動作]** 一個是免費的 GPU 運用。所以我們點選 **畫面上方的 Runtime**\n",
        "  *   **[動作]** 點選 GPU。\n",
        "  *   一般來說可能是程式沒有針對 TPU 優化，所以TPU 沒有 GPU 快。\n",
        "  *  !nvidia-smi\n",
        "\n",
        "2. manage sessions\n",
        "3. view logs\n",
        "4. run all, restart and factory reset\n",
        "\n"
      ]
    },
    {
      "cell_type": "code",
      "metadata": {
        "id": "EpPoEjPCin0i",
        "colab": {
          "base_uri": "https://localhost:8080/"
        },
        "outputId": "d2722245-f994-4ecb-d1c6-61e902b49e73"
      },
      "source": [
        "!nvidia-smi"
      ],
      "execution_count": null,
      "outputs": [
        {
          "output_type": "stream",
          "text": [
            "NVIDIA-SMI has failed because it couldn't communicate with the NVIDIA driver. Make sure that the latest NVIDIA driver is installed and running.\n",
            "\n"
          ],
          "name": "stdout"
        }
      ]
    },
    {
      "cell_type": "markdown",
      "metadata": {
        "id": "eipjZKpoteVW"
      },
      "source": [
        "# 4. 基本操作\n",
        "\n",
        "1. #### Colab\n",
        "> ##### code and text: 3 ways to have code and text\n",
        "> ##### save a copy in drive、save in github、save\n",
        "> ##### 執行 code: ctrl + enter, shift + enter, click run icon\n",
        "\n",
        "2. #### Linux\n",
        "> #####  (!, ls, cd, cp, mkdir, rm, mv)\n",
        "> ### **CD 變更目錄**\n"
      ]
    },
    {
      "cell_type": "code",
      "metadata": {
        "id": "LTr3Zm2oxweC",
        "colab": {
          "base_uri": "https://localhost:8080/"
        },
        "outputId": "52978b9c-ef42-4d59-b035-2d04669f13a7"
      },
      "source": [
        "!ls"
      ],
      "execution_count": null,
      "outputs": [
        {
          "output_type": "stream",
          "text": [
            "sample_data\n"
          ],
          "name": "stdout"
        }
      ]
    },
    {
      "cell_type": "code",
      "metadata": {
        "id": "vIAFImU2x1WO",
        "colab": {
          "base_uri": "https://localhost:8080/"
        },
        "outputId": "61caffd5-588b-40b3-f9bd-bab500607384"
      },
      "source": [
        "!cd sample_data\n",
        "!ls"
      ],
      "execution_count": null,
      "outputs": [
        {
          "output_type": "stream",
          "text": [
            "sample_data\n"
          ],
          "name": "stdout"
        }
      ]
    },
    {
      "cell_type": "code",
      "metadata": {
        "id": "wSUGbP9axePB",
        "colab": {
          "base_uri": "https://localhost:8080/"
        },
        "outputId": "f2d5ae00-4a72-41af-c393-e4679261506f"
      },
      "source": [
        "import os\n",
        "print(os.getcwd())\n",
        "os.chdir(\"/content/sample_data\")\n",
        "print(os.getcwd())"
      ],
      "execution_count": null,
      "outputs": [
        {
          "output_type": "stream",
          "text": [
            "/content\n",
            "/content/sample_data\n"
          ],
          "name": "stdout"
        }
      ]
    },
    {
      "cell_type": "code",
      "metadata": {
        "id": "wMH1CwjByB88",
        "colab": {
          "base_uri": "https://localhost:8080/"
        },
        "outputId": "d25fde81-8804-4142-a4f7-6176abf7baab"
      },
      "source": [
        "!ls\n",
        "# 如果沒有將 工作目錄途徑改回 /context/ 後續觀察有點迷路，當然加在後頭或隨時加都可以啦\n",
        "#os.chdir(\"/content\")\n",
        "#print(os.getcwd())"
      ],
      "execution_count": null,
      "outputs": [
        {
          "output_type": "stream",
          "text": [
            "anscombe.json\t\t      mnist_test.csv\n",
            "california_housing_test.csv   mnist_train_small.csv\n",
            "california_housing_train.csv  README.md\n"
          ],
          "name": "stdout"
        }
      ]
    },
    {
      "cell_type": "markdown",
      "metadata": {
        "id": "3CnItoHsw0Nv"
      },
      "source": [
        "## 5.0 工作目錄介紹\n",
        "- linux ./\n",
        "  - bin/\n",
        "  - boot/\n",
        "  - content/\n",
        "    - sample_data/\n",
        "\n",
        "### drive.mount('/content/drive/')\n",
        "將我們的 google 雲端硬碟接到 content 底下 的 drive\n",
        "drive 只是一個名字，你可以用 patrick 來取代\n",
        "\n",
        "\n",
        "所以\n",
        "## 工作目錄變成\n",
        "- linux ./\n",
        "  - bin/\n",
        "  - boot/\n",
        "  - content/\n",
        "    - sample_data/\n",
        "    - drive/       \n",
        "      - 'My Drive'/\n",
        "        - .... your stuff ...\n",
        "        - Colab Notebooks/\n",
        "      "
      ]
    },
    {
      "cell_type": "markdown",
      "metadata": {
        "id": "r9-3wRH8b_q8"
      },
      "source": [
        "# 5. 連接 Google Drive\n",
        "## **留意是否是自己想要的工作帳號（右上角）**"
      ]
    },
    {
      "cell_type": "code",
      "metadata": {
        "id": "Iquo_UOfbJdu",
        "colab": {
          "base_uri": "https://localhost:8080/"
        },
        "outputId": "fa1c562b-6480-43d0-ecb8-6c130ce28396"
      },
      "source": [
        "from google.colab import drive\n",
        "drive.mount('/content/drive/')\n",
        "# 遵循提供的 1.) url 去  2.) 點選 google 帳號 3.) 同意授權  4.) 複製 authorization code  5.) 貼在下框\n",
        "# item 2.) ## **留意是否是自己想要的工作帳號（右上角）**\n",
        "\n",
        "root = 'drive/My Drive/'\n",
        "!ls\n",
        "!ls drive/\"My Drive\"/"
      ],
      "execution_count": null,
      "outputs": [
        {
          "output_type": "stream",
          "text": [
            "Mounted at /content/drive/\n",
            "anscombe.json\t\t      mnist_test.csv\n",
            "california_housing_test.csv   mnist_train_small.csv\n",
            "california_housing_train.csv  README.md\n",
            "ls: cannot access 'drive/My Drive/': No such file or directory\n"
          ],
          "name": "stdout"
        }
      ]
    },
    {
      "cell_type": "markdown",
      "metadata": {
        "id": "LMJiSYBjwH1I"
      },
      "source": [
        "# 6. 上傳下載"
      ]
    },
    {
      "cell_type": "markdown",
      "metadata": {
        "id": "Asf39cOx9UrM"
      },
      "source": [
        "### 6.1 可以上傳資料到硬碟，下載資料到硬碟"
      ]
    },
    {
      "cell_type": "code",
      "metadata": {
        "id": "Wpv3hysu-Xiv",
        "colab": {
          "base_uri": "https://localhost:8080/",
          "height": 32
        },
        "outputId": "4d0d70f8-357c-417b-d9ce-1c1118226f29"
      },
      "source": [
        "from google.colab import files\n",
        "\n",
        "with open('example.txt', 'w') as f:\n",
        "  f.write('some content')\n",
        "\n",
        "files.download('example.txt')"
      ],
      "execution_count": null,
      "outputs": [
        {
          "output_type": "display_data",
          "data": {
            "application/javascript": [
              "\n",
              "    async function download(id, filename, size) {\n",
              "      if (!google.colab.kernel.accessAllowed) {\n",
              "        return;\n",
              "      }\n",
              "      const div = document.createElement('div');\n",
              "      const label = document.createElement('label');\n",
              "      label.textContent = `Downloading \"${filename}\": `;\n",
              "      div.appendChild(label);\n",
              "      const progress = document.createElement('progress');\n",
              "      progress.max = size;\n",
              "      div.appendChild(progress);\n",
              "      document.body.appendChild(div);\n",
              "\n",
              "      const buffers = [];\n",
              "      let downloaded = 0;\n",
              "\n",
              "      const channel = await google.colab.kernel.comms.open(id);\n",
              "      // Send a message to notify the kernel that we're ready.\n",
              "      channel.send({})\n",
              "\n",
              "      for await (const message of channel.messages) {\n",
              "        // Send a message to notify the kernel that we're ready.\n",
              "        channel.send({})\n",
              "        if (message.buffers) {\n",
              "          for (const buffer of message.buffers) {\n",
              "            buffers.push(buffer);\n",
              "            downloaded += buffer.byteLength;\n",
              "            progress.value = downloaded;\n",
              "          }\n",
              "        }\n",
              "      }\n",
              "      const blob = new Blob(buffers, {type: 'application/binary'});\n",
              "      const a = document.createElement('a');\n",
              "      a.href = window.URL.createObjectURL(blob);\n",
              "      a.download = filename;\n",
              "      div.appendChild(a);\n",
              "      a.click();\n",
              "      div.remove();\n",
              "    }\n",
              "  "
            ],
            "text/plain": [
              "<IPython.core.display.Javascript object>"
            ]
          },
          "metadata": {
            "tags": []
          }
        },
        {
          "output_type": "display_data",
          "data": {
            "application/javascript": [
              "download(\"download_9efddca1-6b91-4ac8-b3fb-472419139efe\", \"example.txt\", 12)"
            ],
            "text/plain": [
              "<IPython.core.display.Javascript object>"
            ]
          },
          "metadata": {
            "tags": []
          }
        }
      ]
    },
    {
      "cell_type": "code",
      "metadata": {
        "id": "2S23TM8I9SgO",
        "colab": {
          "resources": {
            "http://localhost:8080/nbextensions/google.colab/files.js": {
              "data": "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",
              "ok": true,
              "headers": [
                [
                  "content-type",
                  "application/javascript"
                ]
              ],
              "status": 200,
              "status_text": ""
            }
          },
          "base_uri": "https://localhost:8080/",
          "height": 35
        },
        "outputId": "bab637f9-b048-4292-d78f-427d348c0589"
      },
      "source": [
        "from google.colab import files\n",
        "files = files.upload()"
      ],
      "execution_count": null,
      "outputs": [
        {
          "output_type": "display_data",
          "data": {
            "text/html": [
              "\n",
              "     <input type=\"file\" id=\"files-7d69d829-fc21-431f-ab9b-21aef30b63ba\" name=\"files[]\" multiple disabled\n",
              "        style=\"border:none\" />\n",
              "     <output id=\"result-7d69d829-fc21-431f-ab9b-21aef30b63ba\">\n",
              "      Upload widget is only available when the cell has been executed in the\n",
              "      current browser session. Please rerun this cell to enable.\n",
              "      </output>\n",
              "      <script src=\"/nbextensions/google.colab/files.js\"></script> "
            ],
            "text/plain": [
              "<IPython.core.display.HTML object>"
            ]
          },
          "metadata": {
            "tags": []
          }
        }
      ]
    },
    {
      "cell_type": "markdown",
      "metadata": {
        "id": "rIRjGGX-PXfj"
      },
      "source": [
        "# 6.2 左邊資訊區\n",
        "##左上角有\n",
        "### 三條線\n",
        "### <>\n",
        "### **檔案夾** <== 可以通電腦\n",
        "\n",
        "\n",
        "\n",
        "\n",
        "---\n",
        "\n",
        "\n",
        "\n",
        "---\n",
        "\n",
        "\n"
      ]
    },
    {
      "cell_type": "markdown",
      "metadata": {
        "id": "QKr2ApoDwvUy"
      },
      "source": [
        "# 7. 文件編輯區\n",
        "\n",
        "右邊文件編輯區\n",
        "Practice\n",
        "- click < > icon at left side bar\n",
        "- click sample_data, enter this folder\n",
        "- double click README.me\n",
        "- it will enable right side working area, and you could do simple editing here."
      ]
    },
    {
      "cell_type": "markdown",
      "metadata": {
        "id": "qxb3nO6bvNsc"
      },
      "source": [
        "# 8. markdown\n",
        "#大\n",
        "##大\n",
        "###中\n",
        "#####小\n",
        "[MY BLOG]()\n",
        "\n",
        "\n",
        "\n",
        "\n",
        ">> $ \\Large{ \\frac{\\partial{L}}{\\partial{w}}} = \\normalsize{\\sum\\limits_{n=1}^{10}  -2 (\\: \\hat{y}^{n} - (w*x^n + b)) * x^n)}$\n",
        "\n",
        ">> $ \\Large{\\frac{\\partial{L}}{\\partial{b}}}  =  \\normalsize{\\sum\\limits_{n=1}^{10}  2 (\\: \\hat{y}^{n} - (w*x^n + b))}$\n",
        "\n",
        ">> $ \\Large{\\frac{\\partial{L}}{\\partial{b}}}  =  \\normalsize{\\sum\\limits_{n=1}^{10}  2 (\\: \\hat{y}^{n} - (w*x^n + b))}$\n",
        "\n",
        "        iteration method, grad decent \n",
        "\n",
        "$w^n = w^{n-1} - lr * \\Large{  \\frac{\\partial{L}}{\\partial{w}}|}\\small{_{w= w^{n-1}, b= b^{n-1}}}$\n",
        "\n",
        "$b^n = b^{n-1} - lr * \\Large{ \\frac{\\partial{L}}{\\partial{w}}|}\\small{_{w= w^{n-1}, b= b^{n-1}}}$\n",
        "\n",
        "\n",
        "\n"
      ]
    },
    {
      "cell_type": "markdown",
      "metadata": {
        "id": "pdbnrSCMORg1"
      },
      "source": [
        ""
      ]
    },
    {
      "cell_type": "markdown",
      "metadata": {
        "id": "Xa-2ckbZ_Ioo"
      },
      "source": [
        "## 9. 我們來寫一個檔案 machine learning practice"
      ]
    },
    {
      "cell_type": "markdown",
      "metadata": {
        "id": "uOoEmlh_AFsq"
      },
      "source": [
        "### 9.1. Import library"
      ]
    },
    {
      "cell_type": "code",
      "metadata": {
        "id": "o2OXM-NcfqcZ"
      },
      "source": [
        "# 三寶\n",
        "import pandas as pd\n",
        "import numpy as np\n",
        "import matplotlib.pyplot as plt\n",
        "%matplotlib inline\n",
        "\n",
        "from sklearn.datasets import load_digits\n",
        "from sklearn.datasets import load_iris\n",
        "from sklearn.datasets import load_wine\n",
        "from sklearn.datasets import load_boston\n",
        "from sklearn.linear_model import LogisticRegression\n",
        "from sklearn.svm import SVC\n",
        "from sklearn.tree import DecisionTreeClassifier\n",
        "from sklearn.ensemble import RandomForestClassifier, GradientBoostingClassifier\n",
        "from xgboost import XGBClassifier, XGBRFClassifier\n",
        "from sklearn.model_selection import train_test_split, cross_val_score\n",
        "from sklearn.metrics import accuracy_score, f1_score, auc, roc_auc_score, roc_curve"
      ],
      "execution_count": null,
      "outputs": []
    },
    {
      "cell_type": "markdown",
      "metadata": {
        "id": "fepnubVRAPG6"
      },
      "source": [
        "### 9.2 load data and observe data"
      ]
    },
    {
      "cell_type": "code",
      "metadata": {
        "id": "nFWM84kAhE0B"
      },
      "source": [
        "data = load_digits()\n",
        "print(data.data.shape)\n",
        "print(f'we have {data.data.shape[0]} datas, and every data is with {data.data.shape[1]} numbers \\n')\n",
        "print(f'the first data is {data.data[0]}')"
      ],
      "execution_count": null,
      "outputs": []
    },
    {
      "cell_type": "code",
      "metadata": {
        "id": "PIwE8tvmylbP"
      },
      "source": [
        "data"
      ],
      "execution_count": null,
      "outputs": []
    },
    {
      "cell_type": "code",
      "metadata": {
        "id": "g7eLZctxiHmJ"
      },
      "source": [
        "# pic = data.data[0].reshape(8,8,1)  fail\n",
        "pic0 = data.data[0].reshape(8,8)\n",
        "pic1 = data.data[1].reshape(8,8)\n",
        "\n",
        "plt.figure(figsize=(2,2))\n",
        "plt.imshow(pic0)   \n",
        "plt.show()\n",
        "plt.figure(figsize=(3,3))\n",
        "plt.imshow(pic1)\n"
      ],
      "execution_count": null,
      "outputs": []
    },
    {
      "cell_type": "markdown",
      "metadata": {
        "id": "W83lVKV5zRX4"
      },
      "source": [
        "### 9.3. preprossing"
      ]
    },
    {
      "cell_type": "code",
      "metadata": {
        "id": "q-moTRzujC6t"
      },
      "source": [
        "train_x, test_x, train_y, test_y = train_test_split(data.data, data.target, random_state=43, test_size=0.2)"
      ],
      "execution_count": null,
      "outputs": []
    },
    {
      "cell_type": "markdown",
      "metadata": {
        "id": "QXeevNVnzcxa"
      },
      "source": [
        "### 9.4. model、train"
      ]
    },
    {
      "cell_type": "code",
      "metadata": {
        "id": "YJxg3FYpjTlZ"
      },
      "source": [
        "import warnings\n",
        "warnings.filterwarnings('ignore')\n",
        "logi = LogisticRegression()\n",
        "svc = SVC()\n",
        "dtc = DecisionTreeClassifier()\n",
        "rfc = RandomForestClassifier()\n",
        "gdbtc= GradientBoostingClassifier()\n",
        "xgbc = XGBClassifier()\n",
        "xgbrfc = XGBRFClassifier()\n",
        "\n",
        "print(f\"logistice regression cross_val_score is, {cross_val_score(logi, train_x, train_y, cv=5).mean()}\")\n",
        "print(f\"SVC cross_val_score is, {cross_val_score(dtc, train_x, train_y, cv=5).mean()}\")\n",
        "print(f\"decision tree cross_val_score is, {cross_val_score(dtc, train_x, train_y, cv=5).mean()}\")\n",
        "print(f\"random forest cross_val_score is, {cross_val_score(rfc, train_x, train_y, cv=5).mean()}\")\n",
        "print(f\"gradient boosting cross_val_score is, {cross_val_score(gdbtc, train_x, train_y, cv=5).mean()}\")\n",
        "print(f\"xgb tree cross_val_score is, {cross_val_score(xgbc, train_x, train_y, cv=5).mean()}\")\n",
        "print(f\"xgbrf tree cross_val_score is, {cross_val_score(xgbrfc, train_x, train_y, cv=5).mean()}\")"
      ],
      "execution_count": null,
      "outputs": []
    },
    {
      "cell_type": "code",
      "metadata": {
        "id": "QTzOdUkBk7SP"
      },
      "source": [
        "print(f\"logistice regression cross_val_score is, {cross_val_score(logi, train_x, train_y, cv=5).mean()}\")\n",
        "print(f\"SVC cross_val_score is, {cross_val_score(dtc, train_x, train_y, cv=5).mean()}\")\n",
        "print(f\"decision tree cross_val_score is, {cross_val_score(dtc, train_x, train_y, cv=5).mean()}\")\n",
        "print(f\"random forest cross_val_score is, {cross_val_score(rfc, train_x, train_y, cv=5).mean()}\")\n",
        "print(f\"gradient boosting cross_val_score is, {cross_val_score(gdbtc, train_x, train_y, cv=5).mean()}\")\n",
        "print(f\"xgb cross_val_score is, {cross_val_score(xgbc, train_x, train_y, cv=5).mean()}\")\n",
        "print(f\"xgbrf cross_val_score is, {cross_val_score(xgbrfc, train_x, train_y, cv=5).mean()}\")\n"
      ],
      "execution_count": null,
      "outputs": []
    },
    {
      "cell_type": "markdown",
      "metadata": {
        "id": "fNVZYrC6lZKj"
      },
      "source": [
        "### 9.5. 我們就用 gradient boosting 來試試"
      ]
    },
    {
      "cell_type": "code",
      "metadata": {
        "id": "wWNs_lW7lUk1"
      },
      "source": [
        "gdbtc.fit(train_x, train_y)\n",
        "pred = gdbtc.predict(test_x)\n",
        "acc = accuracy_score(pred, test_y)\n",
        "print(f'accuracy of gradient boosting is, {acc:8.4%}')"
      ],
      "execution_count": null,
      "outputs": []
    },
    {
      "cell_type": "code",
      "metadata": {
        "id": "TQEA7p8vmP4O"
      },
      "source": [
        "print(pred[:10])\n",
        "print(test_y[:10])"
      ],
      "execution_count": null,
      "outputs": []
    },
    {
      "cell_type": "code",
      "metadata": {
        "id": "1F35whd_09eo"
      },
      "source": [
        "print(type(pred))\n",
        "print(type(test_y))\n"
      ],
      "execution_count": null,
      "outputs": []
    },
    {
      "cell_type": "code",
      "metadata": {
        "id": "sbxkeQRxmWKi"
      },
      "source": [
        "pd.crosstab(pred, test_y)"
      ],
      "execution_count": null,
      "outputs": []
    },
    {
      "cell_type": "markdown",
      "metadata": {
        "id": "xEqL0PzfmrmR"
      },
      "source": [
        "## 【練習 1】\n",
        "  \n",
        "\n",
        "> ### dateset load:  load_wine()Indented block\n",
        "> ### 重新作一遍\n",
        "\n",
        "\n",
        "\n",
        "\n",
        "\n",
        "## 【練習 2】\n",
        "> ### dateset load: load_wine()Indented block\n",
        "> ### 重新作一遍\n",
        "> * 觀察一下 data.target，跟 digits, wine 有什麼不同"
      ]
    },
    {
      "cell_type": "markdown",
      "metadata": {
        "id": "Go3JYVZwnjWc"
      },
      "source": [
        "# 10. 深度學習程式"
      ]
    },
    {
      "cell_type": "code",
      "metadata": {
        "id": "zKCJw7OumqSV"
      },
      "source": [
        "from keras.datasets import mnist\n",
        "from keras.models import Sequential\n",
        "from keras.layers import Conv2D, Flatten, MaxPooling2D, Dense, Dropout"
      ],
      "execution_count": null,
      "outputs": []
    },
    {
      "cell_type": "code",
      "metadata": {
        "id": "augi7Qg_mn_s"
      },
      "source": [
        "(train_x, train_y),(test_x, test_y) = mnist.load_data()"
      ],
      "execution_count": null,
      "outputs": []
    },
    {
      "cell_type": "code",
      "metadata": {
        "id": "vASSKhoSolI_"
      },
      "source": [
        "print(type(train_x))   #numpy array\n",
        "print(f\"we have {train_x.shape[0]} records\")\n",
        "print(f\"our data is with {train_x.shape[1:]} format\")"
      ],
      "execution_count": null,
      "outputs": []
    },
    {
      "cell_type": "code",
      "metadata": {
        "id": "hs0xvOqopHBj"
      },
      "source": [
        "import copy\n",
        "test_label = test_y\n",
        "from keras.utils import to_categorical\n",
        "train_y = to_categorical(train_y)\n",
        "test_y = to_categorical(test_y)"
      ],
      "execution_count": null,
      "outputs": []
    },
    {
      "cell_type": "markdown",
      "metadata": {
        "id": "ccTbNSe0pyDz"
      },
      "source": [
        "# CNN"
      ]
    },
    {
      "cell_type": "code",
      "metadata": {
        "id": "DLJcUAwypwDC"
      },
      "source": [
        "#train_x, test_x, train_y, test_y = train_test_split(data.data, data.target, random_state=43, test_size=0.2)\n",
        "import copy\n",
        "x_train = train_x.copy().reshape(train_x.shape[0],train_x.shape[1], train_x.shape[2],1)\n",
        "x_test  = test_x.copy().reshape(test_x.shape[0],test_x.shape[1], test_x.shape[2],1)\n",
        "print(f\"before {train_x.shape}, and after {x_train.shape}\")"
      ],
      "execution_count": null,
      "outputs": []
    },
    {
      "cell_type": "code",
      "metadata": {
        "id": "Q27y6anNqkwk"
      },
      "source": [
        "model = Sequential()\n",
        "model.add(Conv2D(filters = 32, kernel_size=(3,3),input_shape = x_train.shape[1:], activation ='relu'))\n",
        "model.add(MaxPooling2D((2,2)))\n",
        "model.add(Dropout(0.25))\n",
        "model.add(Conv2D(filters = 32, kernel_size=(5,5), activation ='relu'))\n",
        "model.add(MaxPooling2D((2,2)))\n",
        "model.add(Dropout(0.5))\n",
        "model.add(Flatten())\n",
        "model.add(Dense(128, activation = 'relu'))\n",
        "model.add(Dense(10, activation = 'softmax'))\n",
        "\n",
        "model.summary()\n"
      ],
      "execution_count": null,
      "outputs": []
    },
    {
      "cell_type": "code",
      "metadata": {
        "id": "6yif6CJMsckW"
      },
      "source": [
        "model.compile(optimizer ='adam', loss='categorical_crossentropy',  metrics=['accuracy'])"
      ],
      "execution_count": null,
      "outputs": []
    },
    {
      "cell_type": "code",
      "metadata": {
        "id": "VZsWMIkJsmSI"
      },
      "source": [
        "history = model.fit(x_test, test_y, epochs=50, validation_split=0.2, batch_size=200, verbose=2)"
      ],
      "execution_count": null,
      "outputs": []
    },
    {
      "cell_type": "code",
      "metadata": {
        "id": "htVno70RuzT1"
      },
      "source": [
        "model.evaluate(x_test, test_y)"
      ],
      "execution_count": null,
      "outputs": []
    },
    {
      "cell_type": "code",
      "metadata": {
        "id": "oN0t5-K1v4SB"
      },
      "source": [
        "pred = model.predict_classes(x_test)\n",
        "max_y = [np.argmax(x) for x in test_y]\n",
        "max_y = np.array(max_y)\n",
        "print(max_y[:10])\n",
        "print(pred[:10])\n",
        "type(pred)\n",
        "pd.crosstab(pred, test_label)"
      ],
      "execution_count": null,
      "outputs": []
    },
    {
      "cell_type": "code",
      "metadata": {
        "id": "ybWfBa72zO3f"
      },
      "source": [
        "def show_train_progress(train_history, train, validation):\n",
        "    plt.plot(train_history.history[train])\n",
        "    plt.plot(train_history.history[validation])\n",
        "    plt.title('Train History')\n",
        "    plt.ylabel('train')\n",
        "    plt.xlabel('Epoch')\n",
        "    plt.legend(['train','validation'],loc='upper left')\n",
        "    plt.show()\n",
        "show_train_progress(history, 'acc','val_acc')\n",
        "show_train_progress(history,'loss','val_loss')"
      ],
      "execution_count": null,
      "outputs": []
    },
    {
      "cell_type": "markdown",
      "metadata": {
        "id": "_u-tpkJx9XMS"
      },
      "source": [
        "acc ==> accuary"
      ]
    },
    {
      "cell_type": "markdown",
      "metadata": {
        "id": "xivMiwHR1l06"
      },
      "source": [
        "## 看起來不錯，馬上存起來，存之前要確認目錄在不在"
      ]
    },
    {
      "cell_type": "code",
      "metadata": {
        "id": "F7W_XHGS2GBm"
      },
      "source": [
        "colabok  = root + 'ColabOK/'\n",
        "saved_path = colabok + 'saved/'\n",
        "\n",
        "if not os.path.exists(saved_path): \n",
        "    os.mkdir(saved_path)\n",
        "    \n",
        "fname = saved_path + 'mnist_target.h5'\n",
        "\n",
        "model.save_weights(fname)"
      ],
      "execution_count": null,
      "outputs": []
    },
    {
      "cell_type": "markdown",
      "metadata": {
        "id": "juHlWIZd2zFi"
      },
      "source": [
        "# 【Wrap up】\n",
        "\n",
        "\n",
        "1.   Colab 基本操作除了本節之外, 還有，\n",
        "  *   import .py 檔\n",
        "2.   基本 model 有上述的 sklearn demo, 與 Deep Learning Hello world, 其實還有一個 machine learning 的題目練習: 比如 Kaggle 上的題目，可以是\n",
        "  *   kaggle titanic\n",
        "  *   kaggle house pricing\n",
        "  *   tbrain fraud detection (on going)\n",
        "\n",
        "1.   後續會介紹\n",
        "  *   收集資料寫在 Excel\n",
        "  *   資料存入 json\n",
        "  *   收集資料圖片檔案的輸入\n",
        "\n",
        "2.   model = Model() 的寫法\n",
        "  *   yolo\n",
        "  *   GAN\n",
        "1.   程式包解說\n",
        "1.   我目前在 Colab 還沒有辦法完成的故事:\n",
        "  *   ngrok (through app = Flask(__name__), app.run(host='0.0.0.0', port=8080))\n",
        "  *   有些開 繪圖視窗，跑的不多，也不熟悉，不順\n",
        "\n",
        "1.   沒有捷徑\n",
        "  *   BERT 學起來不難，程式看動，或要套用不難，但是當要轉到其他應用時的資料解析就需要一些時間。\n",
        "  *   資料架構解析快則 30分鐘，慢則三四小時，不會花上一天時間。但是作一些 EDA、特徵處理，如果要得到不錯的結果，可能需要數天的耐心。\n",
        "\n"
      ]
    }
  ]
}